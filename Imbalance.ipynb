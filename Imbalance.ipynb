{
 "cells": [
  {
   "cell_type": "markdown",
   "metadata": {},
   "source": [
    "## Class Balance"
   ]
  },
  {
   "cell_type": "code",
   "execution_count": 1,
   "metadata": {
    "ExecuteTime": {
     "end_time": "2022-04-14T02:44:57.072643Z",
     "start_time": "2022-04-14T02:44:55.673452Z"
    }
   },
   "outputs": [],
   "source": [
    "import pandas as pd\n",
    "from matplotlib import pyplot as plt\n",
    "import numpy as np\n",
    "\n",
    "import os\n",
    "import pickle\n",
    "\n",
    "# %pip install pandas==1.4.1 --user"
   ]
  },
  {
   "cell_type": "code",
   "execution_count": 2,
   "metadata": {
    "ExecuteTime": {
     "end_time": "2022-04-14T02:45:45.882522Z",
     "start_time": "2022-04-14T02:44:58.562829Z"
    }
   },
   "outputs": [],
   "source": [
    "# read pickle file\n",
    "with open('./sepsis_filled.pkl', 'rb') as f:\n",
    "    sepsis_patients = pickle.load(f)\n",
    "    \n",
    "with open('./nonsepsis_filled.pkl', 'rb') as f:\n",
    "    nonsepsis_patients = pickle.load(f)"
   ]
  },
  {
   "cell_type": "code",
   "execution_count": 3,
   "metadata": {
    "ExecuteTime": {
     "end_time": "2022-04-14T02:47:12.908023Z",
     "start_time": "2022-04-14T02:46:02.774384Z"
    }
   },
   "outputs": [],
   "source": [
    "# combine each patient's data into one record\n",
    "sepsis_pred_filled = {}\n",
    "nonsepsis_pred_filled = {}\n",
    "\n",
    "for pid, data in sepsis_patients.items():\n",
    "    if (data.empty):\n",
    "        continue;\n",
    "    sepsis_pred_filled[pid] = data.mean()\n",
    "    sepsis_pred_filled[pid]['SepsisLabel'] = 1\n",
    "\n",
    "for pid, data in nonsepsis_patients.items():\n",
    "    if (data.empty):\n",
    "        continue;\n",
    "    nonsepsis_pred_filled[pid] = data.mean()\n",
    "    nonsepsis_pred_filled[pid]['SepsisLabel'] = 0"
   ]
  },
  {
   "cell_type": "code",
   "execution_count": 4,
   "metadata": {
    "ExecuteTime": {
     "end_time": "2022-04-14T02:47:40.589788Z",
     "start_time": "2022-04-14T02:47:38.611756Z"
    }
   },
   "outputs": [
    {
     "name": "stdout",
     "output_type": "stream",
     "text": [
      "sepsis: 2887 , non-sepsis: 37404 , totle: 40291\n",
      "sick ratio: 0.07165371919287186\n"
     ]
    }
   ],
   "source": [
    "# build data frame\n",
    "df_sepsis = pd.concat(list(sepsis_pred_filled.values()), axis=1).transpose()\n",
    "df_nonsepsis = pd.concat(list(nonsepsis_pred_filled.values()), axis=1).transpose()\n",
    "df_all=pd.concat([df_sepsis, df_nonsepsis])\n",
    "print('sepsis:', df_sepsis.shape[0], ', non-sepsis:', df_nonsepsis.shape[0], ', totle:', df_all.shape[0])\n",
    "print('sick ratio:', df_all['SepsisLabel'].sum() / df_all['SepsisLabel'].shape[0])"
   ]
  },
  {
   "cell_type": "code",
   "execution_count": 5,
   "metadata": {
    "ExecuteTime": {
     "end_time": "2022-04-14T02:47:47.720107Z",
     "start_time": "2022-04-14T02:47:47.691184Z"
    }
   },
   "outputs": [],
   "source": [
    "# define variable\n",
    "X = df_all.drop(['SepsisLabel'], axis=1)\n",
    "y = df_all['SepsisLabel']"
   ]
  },
  {
   "cell_type": "code",
   "execution_count": 6,
   "metadata": {
    "ExecuteTime": {
     "end_time": "2022-04-14T05:15:53.761803Z",
     "start_time": "2022-04-14T05:15:53.743855Z"
    }
   },
   "outputs": [],
   "source": [
    "# view 2-dimential\n",
    "from sklearn.decomposition import PCA\n",
    "def pca_draw(X, y): \n",
    "    pca = PCA(n_components=2)\n",
    "    pca.fit(X)\n",
    "    n_X = pca.transform(X)\n",
    "    pos_X, neg_X = n_X[y==1], n_X[y==0]\n",
    "    pos_X.shape, neg_X.shape\n",
    "\n",
    "    plt.scatter(neg_X[:,0], neg_X[:,1], c='b', linewidths=0.2)\n",
    "    plt.scatter(pos_X[:,0], pos_X[:,1], c='r', linewidths=0.2)\n",
    "\n",
    "# print balance\n",
    "def printBalance(before, after):\n",
    "    print('before: n_pos = %d, n_neg = %d'%(np.sum(before==1), np.sum(before==0)))\n",
    "    print('after: n_pos = %d, n_neg = %d'%(np.sum(after==1), np.sum(after==0)))\n",
    "\n",
    "def save_2_pickle(var_X, var_y, pkl_name):\n",
    "    var_set = var_X.copy(deep=True)\n",
    "    var_set['SepsisLabel'] = var_y\n",
    "    \n",
    "    with open(pkl_name, 'wb') as f:\n",
    "        pickle.dump(var_set, f)"
   ]
  },
  {
   "cell_type": "code",
   "execution_count": 31,
   "metadata": {
    "ExecuteTime": {
     "end_time": "2022-04-14T02:47:52.770160Z",
     "start_time": "2022-04-14T02:47:52.140222Z"
    }
   },
   "outputs": [
    {
     "data": {
      "image/png": "[encoded data removed]",
      "text/plain": [
       "<Figure size 432x288 with 1 Axes>"
      ]
     },
     "metadata": {
      "needs_background": "light"
     },
     "output_type": "display_data"
    }
   ],
   "source": [
    "pca_draw(X, y)"
   ]
  },
  {
   "cell_type": "code",
   "execution_count": 7,
   "metadata": {
    "ExecuteTime": {
     "end_time": "2022-04-14T02:48:47.094094Z",
     "start_time": "2022-04-14T02:48:47.055199Z"
    }
   },
   "outputs": [
    {
     "name": "stdout",
     "output_type": "stream",
     "text": [
      "Train set: n_pos = 2050, n_neg = 26130, ratio = 0.078454\n"
     ]
    }
   ],
   "source": [
    "# split set into training set and test set 7:3\n",
    "from random import random\n",
    "train_idx = np.array([1 if random()<0.7 else 0 for i in range(X.shape[0])])\n",
    "\n",
    "train_X = X[train_idx==1]\n",
    "train_y = y[train_idx==1]\n",
    "\n",
    "test_X = X[train_idx==0]\n",
    "test_y = y[train_idx==0]\n",
    "\n",
    "print('Train set: n_pos = %d, n_neg = %d, ratio = %f'%(np.sum(train_y==1), np.sum(train_y==0), np.sum(train_y==1)/np.sum(train_y==0)))"
   ]
  },
  {
   "cell_type": "code",
   "execution_count": 8,
   "metadata": {
    "ExecuteTime": {
     "end_time": "2022-04-14T05:15:58.165466Z",
     "start_time": "2022-04-14T05:15:58.073879Z"
    }
   },
   "outputs": [],
   "source": [
    "# save to pkl\n",
    "save_2_pickle(train_X, train_y, 'train_set.pkl')\n",
    "save_2_pickle(test_X, test_y, 'test_set.pkl')"
   ]
  },
  {
   "cell_type": "markdown",
   "metadata": {},
   "source": [
    "#### OverSampling: SMOTE"
   ]
  },
  {
   "cell_type": "code",
   "execution_count": 9,
   "metadata": {
    "ExecuteTime": {
     "end_time": "2022-04-14T02:50:01.987639Z",
     "start_time": "2022-04-14T02:50:01.539686Z"
    }
   },
   "outputs": [],
   "source": [
    "from imblearn.over_sampling import SMOTE\n",
    "\n",
    "def smote(X, y, balanced_ratio=0.5):\n",
    "    n_pos = int(np.sum(y==0)*balanced_ratio)\n",
    "    model = SMOTE(sampling_strategy={1:n_pos})\n",
    "    n_X, n_y = model.fit_resample(X, y)\n",
    "    printBalance(y, n_y)\n",
    "    return n_X, n_y"
   ]
  },
  {
   "cell_type": "markdown",
   "metadata": {},
   "source": [
    "##### SMOTE balance ratio = 0.5"
   ]
  },
  {
   "cell_type": "code",
   "execution_count": 10,
   "metadata": {
    "ExecuteTime": {
     "end_time": "2022-04-14T02:50:05.323476Z",
     "start_time": "2022-04-14T02:50:04.664208Z"
    }
   },
   "outputs": [
    {
     "name": "stdout",
     "output_type": "stream",
     "text": [
      "before: n_pos = 2050, n_neg = 26130\n",
      "after: n_pos = 13065, n_neg = 26130\n"
     ]
    },
    {
     "data": {
      "image/png": "[encoded data removed]",
      "text/plain": [
       "<Figure size 432x288 with 1 Axes>"
      ]
     },
     "metadata": {
      "needs_background": "light"
     },
     "output_type": "display_data"
    }
   ],
   "source": [
    "smote_X_0_5, smote_y_0_5 = smote(train_X, train_y, balanced_ratio=0.5)\n",
    "pca_draw(smote_X_0_5, smote_y_0_5)"
   ]
  },
  {
   "cell_type": "code",
   "execution_count": 11,
   "metadata": {
    "ExecuteTime": {
     "end_time": "2022-04-14T05:16:55.639474Z",
     "start_time": "2022-04-14T05:16:55.163853Z"
    }
   },
   "outputs": [],
   "source": [
    "# save to pkl\n",
    "save_2_pickle(smote_X_0_5, smote_y_0_5, 'smote_0_5.pkl')"
   ]
  },
  {
   "cell_type": "markdown",
   "metadata": {},
   "source": [
    "##### SMOTE balance ratio = 1"
   ]
  },
  {
   "cell_type": "code",
   "execution_count": 12,
   "metadata": {
    "ExecuteTime": {
     "end_time": "2022-04-14T02:50:42.724524Z",
     "start_time": "2022-04-14T02:50:41.929650Z"
    }
   },
   "outputs": [
    {
     "name": "stdout",
     "output_type": "stream",
     "text": [
      "before: n_pos = 2050, n_neg = 26130\n",
      "after: n_pos = 26130, n_neg = 26130\n"
     ]
    },
    {
     "data": {
      "image/png": "[encoded data removed]",
      "text/plain": [
       "<Figure size 432x288 with 1 Axes>"
      ]
     },
     "metadata": {
      "needs_background": "light"
     },
     "output_type": "display_data"
    }
   ],
   "source": [
    "smote_X_1, smote_y_1 = smote(train_X, train_y, balanced_ratio=1)\n",
    "pca_draw(smote_X_1, smote_y_1)"
   ]
  },
  {
   "cell_type": "code",
   "execution_count": 13,
   "metadata": {
    "ExecuteTime": {
     "end_time": "2022-04-14T05:17:13.468493Z",
     "start_time": "2022-04-14T05:17:13.203887Z"
    }
   },
   "outputs": [],
   "source": [
    "# save to pkl\n",
    "save_2_pickle(smote_X_1, smote_y_1, 'smote_0_5.pkl')"
   ]
  },
  {
   "cell_type": "markdown",
   "metadata": {},
   "source": [
    "#### DownSampling: TomekLinks"
   ]
  },
  {
   "cell_type": "code",
   "execution_count": 37,
   "metadata": {
    "ExecuteTime": {
     "end_time": "2022-04-14T02:51:09.713386Z",
     "start_time": "2022-04-14T02:51:09.708400Z"
    }
   },
   "outputs": [],
   "source": [
    "from imblearn.under_sampling import TomekLinks\n",
    "def tomek(X, y):\n",
    "#     n_pos = int(np.sum(y==0)*balanced_ratio)\n",
    "    tl = TomekLinks(sampling_strategy='auto')\n",
    "    X_res, y_res = tl.fit_resample(X, y)\n",
    "    printBalance(y, y_res)\n",
    "    return X_res, y_res"
   ]
  },
  {
   "cell_type": "markdown",
   "metadata": {},
   "source": [
    "##### TomekLinks without SMOTE"
   ]
  },
  {
   "cell_type": "code",
   "execution_count": 38,
   "metadata": {
    "ExecuteTime": {
     "end_time": "2022-04-14T02:52:04.924639Z",
     "start_time": "2022-04-14T02:51:41.617535Z"
    }
   },
   "outputs": [
    {
     "name": "stdout",
     "output_type": "stream",
     "text": [
      "before: n_pos = 2049, n_neg = 26101\n",
      "after: n_pos = 2049, n_neg = 25958\n"
     ]
    },
    {
     "data": {
      "image/png": "[encoded data removed]",
      "text/plain": [
       "<Figure size 432x288 with 1 Axes>"
      ]
     },
     "metadata": {
      "needs_background": "light"
     },
     "output_type": "display_data"
    }
   ],
   "source": [
    "tomek_X, tomek_y = tomek(train_X, train_y)\n",
    "pca_draw(tomek_X, tomek_y)"
   ]
  },
  {
   "cell_type": "code",
   "execution_count": 57,
   "metadata": {
    "ExecuteTime": {
     "end_time": "2022-04-14T05:17:56.374442Z",
     "start_time": "2022-04-14T05:17:55.948616Z"
    }
   },
   "outputs": [],
   "source": [
    "# save to pkl\n",
    "save_2_pickle(tomek_X, tomek_y, 'tomek.pkl')"
   ]
  },
  {
   "cell_type": "markdown",
   "metadata": {},
   "source": [
    "##### TomekLinks after SMOTE"
   ]
  },
  {
   "cell_type": "code",
   "execution_count": 39,
   "metadata": {
    "ExecuteTime": {
     "end_time": "2022-04-14T02:53:15.262940Z",
     "start_time": "2022-04-14T02:52:16.532928Z"
    }
   },
   "outputs": [
    {
     "name": "stdout",
     "output_type": "stream",
     "text": [
      "before: n_pos = 26101, n_neg = 26101\n",
      "after: n_pos = 26096, n_neg = 26101\n"
     ]
    },
    {
     "data": {
      "image/png": "[encoded data removed]",
      "text/plain": [
       "<Figure size 432x288 with 1 Axes>"
      ]
     },
     "metadata": {
      "needs_background": "light"
     },
     "output_type": "display_data"
    }
   ],
   "source": [
    "smote_tomek_X, smote_tomek_y = tomek(smote_X_1, smote_y_1)\n",
    "pca_draw(smote_tomek_X, smote_tomek_y)"
   ]
  },
  {
   "cell_type": "code",
   "execution_count": 58,
   "metadata": {
    "ExecuteTime": {
     "end_time": "2022-04-14T05:18:19.096204Z",
     "start_time": "2022-04-14T05:18:18.890296Z"
    }
   },
   "outputs": [],
   "source": [
    "# save to pkl\n",
    "save_2_pickle(smote_tomek_X, smote_tomek_y, 'smote_tomek.pkl')"
   ]
  },
  {
   "cell_type": "markdown",
   "metadata": {},
   "source": [
    "#### DownSampling: Near Miss"
   ]
  },
  {
   "cell_type": "code",
   "execution_count": 40,
   "metadata": {
    "ExecuteTime": {
     "end_time": "2022-04-14T02:53:27.535254Z",
     "start_time": "2022-04-14T02:53:27.528271Z"
    }
   },
   "outputs": [],
   "source": [
    "from imblearn.under_sampling import NearMiss \n",
    "def near_miss(X, y):\n",
    "    nm = NearMiss()\n",
    "    X_res, y_res = nm.fit_resample(X, y)\n",
    "    printBalance(y, y_res)\n",
    "    return X_res, y_res"
   ]
  },
  {
   "cell_type": "code",
   "execution_count": 41,
   "metadata": {
    "ExecuteTime": {
     "end_time": "2022-04-14T02:53:31.725400Z",
     "start_time": "2022-04-14T02:53:30.326174Z"
    }
   },
   "outputs": [
    {
     "name": "stdout",
     "output_type": "stream",
     "text": [
      "before: n_pos = 2049, n_neg = 26101\n",
      "after: n_pos = 2049, n_neg = 2049\n"
     ]
    },
    {
     "data": {
      "image/png": "[encoded data removed]",
      "text/plain": [
       "<Figure size 432x288 with 1 Axes>"
      ]
     },
     "metadata": {
      "needs_background": "light"
     },
     "output_type": "display_data"
    }
   ],
   "source": [
    "near_miss_X, near_miss_y = near_miss(train_X, train_y)\n",
    "pca_draw(near_miss_X, near_miss_y)"
   ]
  },
  {
   "cell_type": "code",
   "execution_count": 59,
   "metadata": {
    "ExecuteTime": {
     "end_time": "2022-04-14T05:18:59.996580Z",
     "start_time": "2022-04-14T05:18:59.928115Z"
    }
   },
   "outputs": [],
   "source": [
    "# save to pkl\n",
    "save_2_pickle(near_miss_X, near_miss_y, 'near_miss.pkl')"
   ]
  },
  {
   "cell_type": "markdown",
   "metadata": {},
   "source": [
    "#### DownSampling: Edited Nearest Neighbours"
   ]
  },
  {
   "cell_type": "code",
   "execution_count": 42,
   "metadata": {
    "ExecuteTime": {
     "end_time": "2022-04-14T02:53:35.387768Z",
     "start_time": "2022-04-14T02:53:35.381781Z"
    }
   },
   "outputs": [],
   "source": [
    "from imblearn.under_sampling import EditedNearestNeighbours\n",
    "def edit_nearest(X, y):\n",
    "    enn = EditedNearestNeighbours()\n",
    "    X_res, y_res = enn.fit_resample(X, y)\n",
    "    printBalance(y, y_res)\n",
    "    return X_res, y_res"
   ]
  },
  {
   "cell_type": "code",
   "execution_count": 43,
   "metadata": {
    "ExecuteTime": {
     "end_time": "2022-04-14T02:53:56.334631Z",
     "start_time": "2022-04-14T02:53:36.131664Z"
    }
   },
   "outputs": [
    {
     "name": "stdout",
     "output_type": "stream",
     "text": [
      "before: n_pos = 2049, n_neg = 26101\n",
      "after: n_pos = 2049, n_neg = 25174\n"
     ]
    },
    {
     "data": {
      "image/png": "[encoded data removed]",
      "text/plain": [
       "<Figure size 432x288 with 1 Axes>"
      ]
     },
     "metadata": {
      "needs_background": "light"
     },
     "output_type": "display_data"
    }
   ],
   "source": [
    "edit_nearest_X, edit_nearest_y = edit_nearest(train_X, train_y)\n",
    "pca_draw(edit_nearest_X, edit_nearest_y)"
   ]
  },
  {
   "cell_type": "code",
   "execution_count": 60,
   "metadata": {
    "ExecuteTime": {
     "end_time": "2022-04-14T05:19:03.807339Z",
     "start_time": "2022-04-14T05:19:03.681684Z"
    }
   },
   "outputs": [],
   "source": [
    "# save to pkl\n",
    "save_2_pickle(edit_nearest_X, edit_nearest_y, 'edit_nearest.pkl')"
   ]
  },
  {
   "cell_type": "code",
   "execution_count": null,
   "metadata": {},
   "outputs": [],
   "source": []
  }
 ],
 "metadata": {
  "kernelspec": {
   "display_name": "Python [conda env:AML]",
   "language": "python",
   "name": "conda-env-AML-py"
  },
  "language_info": {
   "codemirror_mode": {
    "name": "ipython",
    "version": 3
   },
   "file_extension": ".py",
   "mimetype": "text/x-python",
   "name": "python",
   "nbconvert_exporter": "python",
   "pygments_lexer": "ipython3",
   "version": "3.9.6"
  }
 },
 "nbformat": 4,
 "nbformat_minor": 5
}
